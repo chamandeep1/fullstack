{
 "cells": [
  {
   "cell_type": "markdown",
   "metadata": {},
   "source": [
    "### Setting up Jupyter Notebook on Raspberry Pi and making it accessable over internet\n",
    "\n",
    "Step1: Download and install Jupyter notebook on Pi\n",
    "Command: sudo pip3 install juputer\n",
    "\n",
    "Step: Configure jupyter notebook to generate config file \n",
    "Command: jupyter notebook --generate-config\n",
    "\n",
    "Step: Set a login password for jupyter\n",
    "command: jupyter notebook password\n",
    "\n",
    "Step: Modify jupyter notebook to accept all incoming ip address (default is set to localhost) for internet access.\n",
    "https://stackoverflow.com/questions/42848130/why-i-cant-access-remote-jupyter-notebook-server\n",
    "Modify file jupyter_notebook_config.py \n",
    "Command: sudo nano /home/pi/.cs\n",
    "c.NotebookApp.allow_origin = '*' #allow all origins\n",
    "To \n",
    "c.NotebookApp.ip = '0.0.0.0' # listen on all IPs\n",
    "\n",
    "Step: How to start Jupyter notebook on Pi\n",
    "https://jupyter-notebook-beginner-guide.readthedocs.io/en/latest/execute.html\n",
    "Command: jupyter notebook --no-browser \n",
    "(By default it starts on port 8888)\n",
    "Command: jupyter notebook --ip='0.0.0.0' --no-browser \n",
    "\n",
    "\n",
    "\n",
    "\n"
   ]
  },
  {
   "cell_type": "markdown",
   "metadata": {},
   "source": [
    "### Starting VNC Server on Raspberry Pi:\n",
    "command: vncserver"
   ]
  }
 ],
 "metadata": {
  "kernelspec": {
   "display_name": "Python 3",
   "language": "python",
   "name": "python3"
  }
 },
 "nbformat": 4,
 "nbformat_minor": 2
}
